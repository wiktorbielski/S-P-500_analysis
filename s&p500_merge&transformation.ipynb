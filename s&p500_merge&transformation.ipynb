{
 "cells": [
  {
   "cell_type": "code",
   "execution_count": 68,
   "id": "e43b455c",
   "metadata": {},
   "outputs": [],
   "source": [
    "import pandas as pd\n",
    "import os\n",
    "\n",
    "# Path to your folder with CSV files\n",
    "folder_path = 'input'\n",
    "\n",
    "# Get all CSV file paths\n",
    "csv_files = [os.path.join(folder_path, f) for f in os.listdir(folder_path) if f.endswith('.csv')]\n",
    "\n",
    "# Read and concatenate all CSV files\n",
    "df = pd.concat([pd.read_csv(file, sep=';') for file in csv_files], ignore_index=True)\n",
    "\n",
    "# Optional: save the result to a new file\n",
    "df.to_csv('output/s&p500_merged.csv', sep=\";\", index=False)"
   ]
  },
  {
   "cell_type": "code",
   "execution_count": null,
   "id": "6b0fccfb",
   "metadata": {},
   "outputs": [],
   "source": [
    "\n",
    "# # Remove the percentage sign and convert the 'Weight' column to numeric\n",
    "# df['Weight'] = df['Weight'].replace('%', '', regex=True)  # Remove '%' signs\n",
    "# df['Weight'] = pd.to_numeric(df['Weight'], errors='coerce')  # Convert to numeric without dividing by 100\n",
    "\n",
    "# # Group by 'Company' and calculate the mean of 'Weight'\n",
    "# weight_mean = df.groupby(['Company'])['Weight'].mean().reset_index()\n",
    "\n",
    "# # Sort by 'Weight' in descending order\n",
    "# weight_mean_sorted = weight_mean.sort_values(by='Weight', ascending=False)\n",
    "\n",
    "# # Format the 'Weight' column as percentages with 2 decimal places for display purposes\n",
    "# weight_mean_sorted['Weight_display'] = weight_mean_sorted['Weight'].apply(lambda x: f\"{x:.2f}%\")\n",
    "\n",
    "# # Extract the top 10 companies\n",
    "# top_10 = weight_mean_sorted.head(10)\n",
    "\n",
    "# # Save the top 10 to a CSV file (with the formatted 'Weight_display' column)\n",
    "# top_10.to_csv('output/top_10_s&p500.csv', sep=\";\", index=False)"
   ]
  }
 ],
 "metadata": {
  "kernelspec": {
   "display_name": "Python 3",
   "language": "python",
   "name": "python3"
  },
  "language_info": {
   "codemirror_mode": {
    "name": "ipython",
    "version": 3
   },
   "file_extension": ".py",
   "mimetype": "text/x-python",
   "name": "python",
   "nbconvert_exporter": "python",
   "pygments_lexer": "ipython3",
   "version": "3.11.9"
  }
 },
 "nbformat": 4,
 "nbformat_minor": 5
}
