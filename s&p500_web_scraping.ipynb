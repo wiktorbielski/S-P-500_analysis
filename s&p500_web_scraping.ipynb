{
 "cells": [
  {
   "cell_type": "code",
   "execution_count": 1,
   "metadata": {},
   "outputs": [
    {
     "data": {
      "application/vnd.microsoft.datawrangler.viewer.v0+json": {
       "columns": [
        {
         "name": "index",
         "rawType": "int64",
         "type": "integer"
        },
        {
         "name": "#",
         "rawType": "object",
         "type": "string"
        },
        {
         "name": "Company",
         "rawType": "object",
         "type": "string"
        },
        {
         "name": "Symbol",
         "rawType": "object",
         "type": "string"
        },
        {
         "name": "Weight",
         "rawType": "object",
         "type": "string"
        },
        {
         "name": "Price",
         "rawType": "object",
         "type": "string"
        },
        {
         "name": "Chg",
         "rawType": "object",
         "type": "string"
        },
        {
         "name": "% Chg",
         "rawType": "object",
         "type": "string"
        },
        {
         "name": "Date",
         "rawType": "object",
         "type": "string"
        }
       ],
       "conversionMethod": "pd.DataFrame",
       "ref": "9e4f864d-ae01-4232-b31d-f22efad7accd",
       "rows": [
        [
         "0",
         "1",
         "Apple Inc.",
         "AAPL",
         "6.52%",
         "196.98",
         "2.71",
         "(1.39%)",
         "2025-04-18"
        ],
        [
         "1",
         "2",
         "Microsoft Corp",
         "MSFT",
         "6.17%",
         "367.78",
         "-3.83",
         "(-1.03%)",
         "2025-04-18"
        ],
        [
         "2",
         "3",
         "Nvidia Corp",
         "NVDA",
         "5.72%",
         "101.49",
         "-3.00",
         "(-2.87%)",
         "2025-04-18"
        ],
        [
         "3",
         "4",
         "Amazon.com Inc",
         "AMZN",
         "3.67%",
         "172.61",
         "-1.72",
         "(-0.99%)",
         "2025-04-18"
        ],
        [
         "4",
         "5",
         "Meta Platforms, Inc. Class A",
         "META",
         "2.46%",
         "501.48",
         "-0.83",
         "(-0.17%)",
         "2025-04-18"
        ]
       ],
       "shape": {
        "columns": 8,
        "rows": 5
       }
      },
      "text/html": [
       "<div>\n",
       "<style scoped>\n",
       "    .dataframe tbody tr th:only-of-type {\n",
       "        vertical-align: middle;\n",
       "    }\n",
       "\n",
       "    .dataframe tbody tr th {\n",
       "        vertical-align: top;\n",
       "    }\n",
       "\n",
       "    .dataframe thead th {\n",
       "        text-align: right;\n",
       "    }\n",
       "</style>\n",
       "<table border=\"1\" class=\"dataframe\">\n",
       "  <thead>\n",
       "    <tr style=\"text-align: right;\">\n",
       "      <th></th>\n",
       "      <th>#</th>\n",
       "      <th>Company</th>\n",
       "      <th>Symbol</th>\n",
       "      <th>Weight</th>\n",
       "      <th>Price</th>\n",
       "      <th>Chg</th>\n",
       "      <th>% Chg</th>\n",
       "      <th>Date</th>\n",
       "    </tr>\n",
       "  </thead>\n",
       "  <tbody>\n",
       "    <tr>\n",
       "      <th>0</th>\n",
       "      <td>1</td>\n",
       "      <td>Apple Inc.</td>\n",
       "      <td>AAPL</td>\n",
       "      <td>6.52%</td>\n",
       "      <td>196.98</td>\n",
       "      <td>2.71</td>\n",
       "      <td>(1.39%)</td>\n",
       "      <td>2025-04-18</td>\n",
       "    </tr>\n",
       "    <tr>\n",
       "      <th>1</th>\n",
       "      <td>2</td>\n",
       "      <td>Microsoft Corp</td>\n",
       "      <td>MSFT</td>\n",
       "      <td>6.17%</td>\n",
       "      <td>367.78</td>\n",
       "      <td>-3.83</td>\n",
       "      <td>(-1.03%)</td>\n",
       "      <td>2025-04-18</td>\n",
       "    </tr>\n",
       "    <tr>\n",
       "      <th>2</th>\n",
       "      <td>3</td>\n",
       "      <td>Nvidia Corp</td>\n",
       "      <td>NVDA</td>\n",
       "      <td>5.72%</td>\n",
       "      <td>101.49</td>\n",
       "      <td>-3.00</td>\n",
       "      <td>(-2.87%)</td>\n",
       "      <td>2025-04-18</td>\n",
       "    </tr>\n",
       "    <tr>\n",
       "      <th>3</th>\n",
       "      <td>4</td>\n",
       "      <td>Amazon.com Inc</td>\n",
       "      <td>AMZN</td>\n",
       "      <td>3.67%</td>\n",
       "      <td>172.61</td>\n",
       "      <td>-1.72</td>\n",
       "      <td>(-0.99%)</td>\n",
       "      <td>2025-04-18</td>\n",
       "    </tr>\n",
       "    <tr>\n",
       "      <th>4</th>\n",
       "      <td>5</td>\n",
       "      <td>Meta Platforms, Inc. Class A</td>\n",
       "      <td>META</td>\n",
       "      <td>2.46%</td>\n",
       "      <td>501.48</td>\n",
       "      <td>-0.83</td>\n",
       "      <td>(-0.17%)</td>\n",
       "      <td>2025-04-18</td>\n",
       "    </tr>\n",
       "  </tbody>\n",
       "</table>\n",
       "</div>"
      ],
      "text/plain": [
       "   #                       Company Symbol Weight   Price    Chg     % Chg  \\\n",
       "0  1                    Apple Inc.   AAPL  6.52%  196.98   2.71   (1.39%)   \n",
       "1  2                Microsoft Corp   MSFT  6.17%  367.78  -3.83  (-1.03%)   \n",
       "2  3                   Nvidia Corp   NVDA  5.72%  101.49  -3.00  (-2.87%)   \n",
       "3  4                Amazon.com Inc   AMZN  3.67%  172.61  -1.72  (-0.99%)   \n",
       "4  5  Meta Platforms, Inc. Class A   META  2.46%  501.48  -0.83  (-0.17%)   \n",
       "\n",
       "         Date  \n",
       "0  2025-04-18  \n",
       "1  2025-04-18  \n",
       "2  2025-04-18  \n",
       "3  2025-04-18  \n",
       "4  2025-04-18  "
      ]
     },
     "execution_count": 1,
     "metadata": {},
     "output_type": "execute_result"
    }
   ],
   "source": [
    "import requests\n",
    "import pandas as pd\n",
    "from bs4 import BeautifulSoup\n",
    "from datetime import datetime\n",
    "\n",
    "# Define the URL and headers\n",
    "url = 'https://www.slickcharts.com/sp500'\n",
    "headers = {'User-Agent': 'Mozilla/5.0'}\n",
    "response = requests.get(url, headers=headers)\n",
    "\n",
    "# Parse the HTML content\n",
    "soup = BeautifulSoup(response.content, 'html.parser')\n",
    "\n",
    "# Find the table containing the S&P 500 data\n",
    "table = soup.find('table', {'class': 'table table-hover table-borderless table-sm'})\n",
    "\n",
    "# Extract the headers\n",
    "header_row = table.find_all('th')\n",
    "headers = [header.text.strip() for header in header_row]\n",
    "\n",
    "# Extract the rows\n",
    "rows = []\n",
    "for row in table.find_all('tr')[1:]:  # Skip the header row\n",
    "    cols = row.find_all('td')\n",
    "    rows.append([col.text.strip() for col in cols])\n",
    "\n",
    "# Create the DataFrame\n",
    "df = pd.DataFrame(rows, columns=headers)\n",
    "\n",
    "# Assign today's date to the DataFrame\n",
    "df['Date'] = datetime.today().strftime('%Y-%m-%d')\n",
    "\n",
    "# Display the DataFrame\n",
    "df.head()"
   ]
  },
  {
   "cell_type": "code",
   "execution_count": 2,
   "metadata": {},
   "outputs": [],
   "source": [
    "# Save the DataFrame to a CSV file with a semicolon separator\n",
    "df.to_csv('sp500_18.04.2025.csv', sep=\";\", index=False)  # Save to CSV file"
   ]
  }
 ],
 "metadata": {
  "kernelspec": {
   "display_name": "Python 3",
   "language": "python",
   "name": "python3"
  },
  "language_info": {
   "codemirror_mode": {
    "name": "ipython",
    "version": 3
   },
   "file_extension": ".py",
   "mimetype": "text/x-python",
   "name": "python",
   "nbconvert_exporter": "python",
   "pygments_lexer": "ipython3",
   "version": "3.11.9"
  }
 },
 "nbformat": 4,
 "nbformat_minor": 2
}
