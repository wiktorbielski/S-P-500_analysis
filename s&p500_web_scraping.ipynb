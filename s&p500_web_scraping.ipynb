{
 "cells": [
  {
   "cell_type": "markdown",
   "metadata": {},
   "source": [
    "<p style=\"text-align: center; font-size: 32px; font-weight: bold;\">S&P 500 Data Scraper</p>"
   ]
  },
  {
   "cell_type": "markdown",
   "metadata": {},
   "source": [
    "\n",
    "\n",
    "- This Python script scrapes the latest S&P 500 company data from [Slickcharts](https://www.slickcharts.com/sp500) using `requests` and `BeautifulSoup`. \n",
    "- It extracts the data table containing index components, processes it into a clean `pandas` DataFrame, and adds the current date for reference."
   ]
  },
  {
   "cell_type": "code",
   "execution_count": 1,
   "metadata": {},
   "outputs": [
    {
     "data": {
      "application/vnd.microsoft.datawrangler.viewer.v0+json": {
       "columns": [
        {
         "name": "index",
         "rawType": "int64",
         "type": "integer"
        },
        {
         "name": "#",
         "rawType": "object",
         "type": "string"
        },
        {
         "name": "Company",
         "rawType": "object",
         "type": "string"
        },
        {
         "name": "Symbol",
         "rawType": "object",
         "type": "string"
        },
        {
         "name": "Weight",
         "rawType": "object",
         "type": "string"
        },
        {
         "name": "Price",
         "rawType": "object",
         "type": "string"
        },
        {
         "name": "Chg",
         "rawType": "object",
         "type": "string"
        },
        {
         "name": "% Chg",
         "rawType": "object",
         "type": "string"
        },
        {
         "name": "Date",
         "rawType": "object",
         "type": "string"
        }
       ],
       "conversionMethod": "pd.DataFrame",
       "ref": "058e070a-2ba1-4318-a7fc-34d3b7918af4",
       "rows": [
        [
         "0",
         "1",
         "Apple Inc.",
         "AAPL",
         "6.74%",
         "205.35",
         "-7.97",
         "(-3.74%)",
         "2025-05-04"
        ],
        [
         "1",
         "2",
         "Microsoft Corp",
         "MSFT",
         "6.65%",
         "435.28",
         "9.88",
         "(2.32%)",
         "2025-05-04"
        ],
        [
         "2",
         "3",
         "Nvidia Corp",
         "NVDA",
         "5.75%",
         "114.50",
         "2.89",
         "(2.59%)",
         "2025-05-04"
        ],
        [
         "3",
         "4",
         "Amazon.com Inc",
         "AMZN",
         "3.77%",
         "189.98",
         "-0.22",
         "(-0.12%)",
         "2025-05-04"
        ],
        [
         "4",
         "5",
         "Meta Platforms, Inc. Class A",
         "META",
         "2.64%",
         "597.02",
         "24.81",
         "(4.34%)",
         "2025-05-04"
        ]
       ],
       "shape": {
        "columns": 8,
        "rows": 5
       }
      },
      "text/html": [
       "<div>\n",
       "<style scoped>\n",
       "    .dataframe tbody tr th:only-of-type {\n",
       "        vertical-align: middle;\n",
       "    }\n",
       "\n",
       "    .dataframe tbody tr th {\n",
       "        vertical-align: top;\n",
       "    }\n",
       "\n",
       "    .dataframe thead th {\n",
       "        text-align: right;\n",
       "    }\n",
       "</style>\n",
       "<table border=\"1\" class=\"dataframe\">\n",
       "  <thead>\n",
       "    <tr style=\"text-align: right;\">\n",
       "      <th></th>\n",
       "      <th>#</th>\n",
       "      <th>Company</th>\n",
       "      <th>Symbol</th>\n",
       "      <th>Weight</th>\n",
       "      <th>Price</th>\n",
       "      <th>Chg</th>\n",
       "      <th>% Chg</th>\n",
       "      <th>Date</th>\n",
       "    </tr>\n",
       "  </thead>\n",
       "  <tbody>\n",
       "    <tr>\n",
       "      <th>0</th>\n",
       "      <td>1</td>\n",
       "      <td>Apple Inc.</td>\n",
       "      <td>AAPL</td>\n",
       "      <td>6.74%</td>\n",
       "      <td>205.35</td>\n",
       "      <td>-7.97</td>\n",
       "      <td>(-3.74%)</td>\n",
       "      <td>2025-05-04</td>\n",
       "    </tr>\n",
       "    <tr>\n",
       "      <th>1</th>\n",
       "      <td>2</td>\n",
       "      <td>Microsoft Corp</td>\n",
       "      <td>MSFT</td>\n",
       "      <td>6.65%</td>\n",
       "      <td>435.28</td>\n",
       "      <td>9.88</td>\n",
       "      <td>(2.32%)</td>\n",
       "      <td>2025-05-04</td>\n",
       "    </tr>\n",
       "    <tr>\n",
       "      <th>2</th>\n",
       "      <td>3</td>\n",
       "      <td>Nvidia Corp</td>\n",
       "      <td>NVDA</td>\n",
       "      <td>5.75%</td>\n",
       "      <td>114.50</td>\n",
       "      <td>2.89</td>\n",
       "      <td>(2.59%)</td>\n",
       "      <td>2025-05-04</td>\n",
       "    </tr>\n",
       "    <tr>\n",
       "      <th>3</th>\n",
       "      <td>4</td>\n",
       "      <td>Amazon.com Inc</td>\n",
       "      <td>AMZN</td>\n",
       "      <td>3.77%</td>\n",
       "      <td>189.98</td>\n",
       "      <td>-0.22</td>\n",
       "      <td>(-0.12%)</td>\n",
       "      <td>2025-05-04</td>\n",
       "    </tr>\n",
       "    <tr>\n",
       "      <th>4</th>\n",
       "      <td>5</td>\n",
       "      <td>Meta Platforms, Inc. Class A</td>\n",
       "      <td>META</td>\n",
       "      <td>2.64%</td>\n",
       "      <td>597.02</td>\n",
       "      <td>24.81</td>\n",
       "      <td>(4.34%)</td>\n",
       "      <td>2025-05-04</td>\n",
       "    </tr>\n",
       "  </tbody>\n",
       "</table>\n",
       "</div>"
      ],
      "text/plain": [
       "   #                       Company Symbol Weight   Price    Chg     % Chg  \\\n",
       "0  1                    Apple Inc.   AAPL  6.74%  205.35  -7.97  (-3.74%)   \n",
       "1  2                Microsoft Corp   MSFT  6.65%  435.28   9.88   (2.32%)   \n",
       "2  3                   Nvidia Corp   NVDA  5.75%  114.50   2.89   (2.59%)   \n",
       "3  4                Amazon.com Inc   AMZN  3.77%  189.98  -0.22  (-0.12%)   \n",
       "4  5  Meta Platforms, Inc. Class A   META  2.64%  597.02  24.81   (4.34%)   \n",
       "\n",
       "         Date  \n",
       "0  2025-05-04  \n",
       "1  2025-05-04  \n",
       "2  2025-05-04  \n",
       "3  2025-05-04  \n",
       "4  2025-05-04  "
      ]
     },
     "execution_count": 1,
     "metadata": {},
     "output_type": "execute_result"
    }
   ],
   "source": [
    "import requests\n",
    "import pandas as pd\n",
    "from bs4 import BeautifulSoup\n",
    "from datetime import datetime\n",
    "import os\n",
    "\n",
    "# Define the URL and headers\n",
    "url = 'https://www.slickcharts.com/sp500'\n",
    "headers = {'User-Agent': 'Mozilla/5.0'}\n",
    "response = requests.get(url, headers=headers)\n",
    "\n",
    "# Parse the HTML content\n",
    "soup = BeautifulSoup(response.content, 'html.parser')\n",
    "\n",
    "# Find the table containing the S&P 500 data\n",
    "table = soup.find('table', {'class': 'table table-hover table-borderless table-sm'})\n",
    "\n",
    "# Extract the headers\n",
    "header_row = table.find_all('th')\n",
    "headers = [header.text.strip() for header in header_row]\n",
    "\n",
    "# Extract the rows\n",
    "rows = []\n",
    "for row in table.find_all('tr')[1:]:  # Skip the header row\n",
    "    cols = row.find_all('td')\n",
    "    rows.append([col.text.strip() for col in cols])\n",
    "\n",
    "# Create the DataFrame\n",
    "df = pd.DataFrame(rows, columns=headers)\n",
    "\n",
    "# Assign today's date to the DataFrame\n",
    "df['Date'] = datetime.today().strftime('%Y-%m-%d')\n",
    "\n",
    "# Display the DataFrame\n",
    "df.head()"
   ]
  },
  {
   "cell_type": "markdown",
   "metadata": {},
   "source": [
    "- Save the S&P 500 data to a CSV file to the `input` folder and keep of the daily records."
   ]
  },
  {
   "cell_type": "code",
   "execution_count": 2,
   "metadata": {},
   "outputs": [],
   "source": [
    "# df.to_csv('input/sp500_04.05.2025.csv', sep=\";\", index=False)"
   ]
  },
  {
   "cell_type": "markdown",
   "metadata": {},
   "source": [
    "- This script reads all CSV files from the `input` folder, merges them into a single `pandas` DataFrame, and optionally saves the result to a new CSV file."
   ]
  },
  {
   "cell_type": "code",
   "execution_count": 3,
   "metadata": {},
   "outputs": [],
   "source": [
    "# Path to your folder with CSV files\n",
    "folder_path = 'input'\n",
    "\n",
    "# Get all CSV file paths\n",
    "csv_files = [os.path.join(folder_path, f) for f in os.listdir(folder_path) if f.endswith('.csv')]\n",
    "\n",
    "# Read and concatenate all CSV files\n",
    "df = pd.concat([pd.read_csv(file, sep=';') for file in csv_files], ignore_index=True)\n",
    "\n",
    "# Optional: save the result to a new file\n",
    "df.to_csv('output/s&p500_merged.csv', sep=\";\", index=False)"
   ]
  }
 ],
 "metadata": {
  "kernelspec": {
   "display_name": "Python 3",
   "language": "python",
   "name": "python3"
  },
  "language_info": {
   "codemirror_mode": {
    "name": "ipython",
    "version": 3
   },
   "file_extension": ".py",
   "mimetype": "text/x-python",
   "name": "python",
   "nbconvert_exporter": "python",
   "pygments_lexer": "ipython3",
   "version": "3.11.9"
  }
 },
 "nbformat": 4,
 "nbformat_minor": 2
}
